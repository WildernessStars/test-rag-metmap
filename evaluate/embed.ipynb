{
  "cells": [
    {
      "cell_type": "code",
      "execution_count": null,
      "metadata": {
        "colab": {
          "background_save": true
        },
        "id": "0lYKPEMMlUVD",
        "outputId": "2b366169-2adb-4f04-dbef-0bcbc34e9762"
      },
      "outputs": [
        {
          "name": "stdout",
          "output_type": "stream",
          "text": [
            "Mounted at /content/drive\n"
          ]
        }
      ],
      "source": [
        "from google.colab import drive\n",
        "drive.mount('/content/drive')\n",
        "import os\n",
        "os.chdir('/content/drive/MyDrive/Colab Notebooks')"
      ]
    },
    {
      "cell_type": "code",
      "execution_count": null,
      "metadata": {
        "collapsed": true,
        "id": "E9ynjbiQlW0U"
      },
      "outputs": [],
      "source": [
        "!pip install git+https://github.com/huggingface/transformers.git\n",
        "!pip install git+https://github.com/huggingface/optimum.git\n",
        "!pip install auto-gptq\n",
        "!pip install --upgrade accelerate\n",
        "!pip install langchain_cohere\n",
        "!pip install langchain_openai\n",
        "!pip install jsonlines\n",
        "!pip install paddlepaddle-gpu==2.6.1\n",
        "!pip install paddlenlp"
      ]
    },
    {
      "cell_type": "code",
      "execution_count": null,
      "metadata": {
        "id": "TohqdPYflXKm"
      },
      "outputs": [],
      "source": [
        "from typing import List\n",
        "from tester import MetamorphicTesting\n",
        "from embeddings import PaddlePaddleEmbeddings, HuggingfaceEmbeddings, UformEmbeddings\n",
        "import jsonlines\n",
        "\n",
        "embedding_models = ['PaddlePaddle/ernie-3.0-medium-zh',\n",
        "                    'sgugger/rwkv-430M-pile',\n",
        "                    'sentence-transformers/all-MiniLM-L6-v2',\n",
        "                    'unum-cloud/uform-vl-english',\n",
        "                    'SpanBERT/spanbert-large-cased',\n",
        "                    'google/electra-large-generator',\n",
        "                    'sentence-transformers/gtr-t5-large',\n",
        "                    'sentence-transformers/sentence-t5-large',\n",
        "                    'sentence-transformers/all-mpnet-base-v2',\n",
        "                    'tiiuae/falcon-7b',\n",
        "                    'decapoda-research/llama-7b-hf-4bit']\n",
        "metamorphic = ['err_nli', 'err_translate', 'nega_exp', 'num_sub', 'obj_sub', 'verb_sub', 'word_del', 'word_swap']\n",
        "DISTANCE_METRICS = ['cosine', 'euclidean', 'person', 'manhattan', 'lancewilliams', 'braycurtis', 'mahalanobis']\n",
        "\n",
        "\n",
        "def load_dataset(path) -> List[List[str]]:\n",
        "    data = []\n",
        "    with jsonlines.open(path) as f:\n",
        "        for line in f:\n",
        "            data.append([line['sentence1'], line['sentence2'], line['sentence3']])\n",
        "    return data\n",
        "\n",
        "\n",
        "if __name__ == \"__main__\":\n",
        "    '''\n",
        "    embedding = PaddlePaddleEmbeddings(model_name=\"PaddlePaddle/ernie-3.0-medium-zh\", cache_folder='models/paddle')\n",
        "    embedding = HuggingfaceEmbeddings(model_name=\"sgugger/rwkv-430M-pile\", cache_folder='models/other')\n",
        "    embedding = UformEmbeddings(model_name=\"unum-cloud/uform-vl-english\")\n",
        "    '''\n",
        "    for model_name in embedding_models:\n",
        "      embedding = HuggingfaceEmbeddings(model_name=model_name)\n",
        "      vector_db = 'Annoy'\n",
        "      distance_metric = None\n",
        "      mt = MetamorphicTesting(embedding, distance_metric, vector_db)\n",
        "      for me in metamorphic:\n",
        "          dataset = load_dataset('data/MeTMaP/dataset/normal/'+me+'.jsonl')\n",
        "          results = mt.run_tests(dataset, subset=me)\n",
        "          # evaluates = mt.evaluate(results)\n",
        "          # print(evaluates)\n",
        "\n",
        "\n",
        "\n",
        "\n"
      ]
    }
  ],
  "metadata": {
    "colab": {
      "machine_shape": "hm",
      "provenance": []
    },
    "kernelspec": {
      "display_name": "Python 3",
      "name": "python3"
    },
    "language_info": {
      "name": "python"
    }
  },
  "nbformat": 4,
  "nbformat_minor": 0
}