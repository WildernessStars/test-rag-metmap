{
  "cells": [
    {
      "cell_type": "code",
      "execution_count": null,
      "metadata": {
        "colab": {
          "base_uri": "https://localhost:8080/"
        },
        "id": "prL6BD9vfK3X",
        "outputId": "81fa7919-3b6c-452f-f4fe-13f25a40ed48"
      },
      "outputs": [
        {
          "name": "stdout",
          "output_type": "stream",
          "text": [
            "Mounted at /content/drive\n"
          ]
        }
      ],
      "source": [
        "from google.colab import drive\n",
        "drive.mount('/content/drive')\n",
        "import os\n",
        "os.chdir('/content/drive/MyDrive/Colab Notebooks')"
      ]
    },
    {
      "cell_type": "code",
      "execution_count": null,
      "metadata": {
        "colab": {
          "base_uri": "https://localhost:8080/"
        },
        "id": "BHhYBVOQf1RN",
        "outputId": "9227884e-a0e4-46a5-fc8f-93fc9d869125"
      },
      "outputs": [
        {
          "name": "stderr",
          "output_type": "stream",
          "text": [
            "/usr/local/lib/python3.10/dist-packages/transformers/utils/generic.py:441: FutureWarning: `torch.utils._pytree._register_pytree_node` is deprecated. Please use `torch.utils._pytree.register_pytree_node` instead.\n",
            "  _torch_pytree._register_pytree_node(\n"
          ]
        }
      ],
      "source": [
        "from typing import List\n",
        "from summac.model_summac import SummaCZS, SummaCConv\n",
        "import jsonlines\n",
        "import nltk\n",
        "nltk.download('punkt_tab')\n",
        "\n",
        "\n",
        "metamorphic = ['err_nli', 'err_translate', 'nega_exp', 'num_sub', 'obj_sub', 'verb_sub', 'word_del', 'word_swap']\n",
        "distance_metrics = ['cosine', 'euclidean', 'person', 'manhattan', 'lancewilliams', 'mahalanobis', 'braycurtis']\n",
        "\n",
        "\n",
        "\n",
        "def load_dataset(path) -> List[List[str]]:\n",
        "    data = []\n",
        "    with jsonlines.open(path) as f:\n",
        "        for line in f:\n",
        "            data.append([line['sentence1'], line['sentence2'], line['sentence3']])\n",
        "    return data\n",
        "\n",
        "\n",
        "\n",
        "\n"
      ]
    },
    {
      "cell_type": "code",
      "execution_count": null,
      "metadata": {
        "id": "UC_aP3DhgEU7"
      },
      "outputs": [],
      "source": [
        "import pandas as pd\n",
        "import torch\n",
        "import numpy as np\n",
        "\n",
        "device = \"cuda\" if torch.cuda.is_available() else \"cpu\"\n",
        "model_conv = SummaCConv(models=[\"vitc\"], bins='percentile', granularity=\"sentence\", nli_labels=\"e\", device=device, start_file=\"default\", agg=\"mean\")\n",
        "\n",
        "\n",
        "def load_dataset(path):\n",
        "    df = pd.read_json(path, lines=True)\n",
        "    return df[['sentence1', 'sentence2', 'sentence3']].values.tolist()\n",
        "\n",
        "batch_size = 32\n",
        "\n",
        "scores_pos = []\n",
        "scores_neg = []\n",
        "for me in metamorphic:\n",
        "  dataset = load_dataset('data/MeTMaP/dataset/normal/'+me+'.jsonl')\n",
        "  score_neg = []\n",
        "  score_pos = []\n",
        "  for i in range(0, len(dataset), batch_size):\n",
        "      batch_base = [data[0] for data in dataset[i:i + batch_size]]\n",
        "      batch_pos = [data[1] for data in dataset[i:i + batch_size]]\n",
        "      batch_neg = [data[2] for data in dataset[i:i + batch_size]]\n",
        "\n",
        "      scores_pos.extend(model_conv.score(batch_base, batch_pos)['scores'])\n",
        "      scores_neg.extend(model_conv.score(batch_base, batch_neg)['scores'])\n",
        "      print(i)\n",
        "  score = [scores_pos, scores_neg]\n",
        "  np.save('SummaCConv' + me + '.npy', score)\n",
        "\n"
      ]
    },
    {
      "cell_type": "code",
      "execution_count": null,
      "metadata": {
        "colab": {
          "background_save": true
        },
        "id": "pykbxzktmOUc"
      },
      "outputs": [],
      "source": [
        "for me in metamorphic:\n",
        "  dataset = load_dataset('data/MeTMaP/dataset/normal/'+me+'.jsonl')\n",
        "  score_neg = []\n",
        "  score_pos = []\n",
        "  for i in range(0, len(dataset), batch_size):\n",
        "      batch_base = [data[0] for data in dataset[i:i + batch_size]]\n",
        "      batch_pos = [data[1] for data in dataset[i:i + batch_size]]\n",
        "      batch_neg = [data[2] for data in dataset[i:i + batch_size]]\n",
        "\n",
        "      scores_pos.extend(model_conv.score(batch_pos, batch_base)['scores'])\n",
        "      scores_neg.extend(model_conv.score(batch_neg, batch_base)['scores'])\n",
        "      print(i)\n",
        "  score = [scores_pos, scores_neg]\n",
        "  np.save('SummaCConv_reverse' + me + '.npy', score)"
      ]
    },
    {
      "cell_type": "code",
      "execution_count": null,
      "metadata": {
        "id": "i_wJ-cWcga74"
      },
      "outputs": [],
      "source": [
        "model_zs = SummaCZS(granularity=\"sentence\", model_name=\"vitc\", device=device)\n",
        "for me in metamorphic:\n",
        "  dataset = load_dataset('data/MeTMaP/dataset/normal/'+me+'.jsonl')\n",
        "  score_neg = []\n",
        "  score_pos = []\n",
        "  for i in range(0, len(dataset), batch_size):\n",
        "      batch_base = [data[0] for data in dataset[i:i + batch_size]]\n",
        "      batch_pos = [data[1] for data in dataset[i:i + batch_size]]\n",
        "      batch_neg = [data[2] for data in dataset[i:i + batch_size]]\n",
        "\n",
        "      scores_pos.extend(model_zs.score(batch_base, batch_pos)['scores'])\n",
        "      scores_neg.extend(model_zs.score(batch_base, batch_neg)['scores'])\n",
        "      print(i)\n",
        "  score = [scores_pos, scores_neg]\n",
        "  np.save('SummaCZS_' + me + '.npy', score)"
      ]
    },
    {
      "cell_type": "code",
      "source": [
        "scores_pos = []\n",
        "scores_neg = []\n",
        "for me in metamorphic:\n",
        "  dataset = load_dataset('data/MeTMaP/dataset/normal/'+me+'.jsonl')\n",
        "  score_neg = []\n",
        "  score_pos = []\n",
        "  for i in range(0, len(dataset), batch_size):\n",
        "      batch_base = [data[0] for data in dataset[i:i + batch_size]]\n",
        "      batch_pos = [data[1] for data in dataset[i:i + batch_size]]\n",
        "      batch_neg = [data[2] for data in dataset[i:i + batch_size]]\n",
        "\n",
        "      scores_pos.extend(model_zs.score(batch_pos, batch_base)['scores'])\n",
        "      scores_neg.extend(model_zs.score(batch_neg, batch_base)['scores'])\n",
        "      print(i)\n",
        "  score = [scores_pos, scores_neg]\n",
        "  np.save('SummaCZS_Reverse' + me + '.npy', score)"
      ],
      "metadata": {
        "id": "Zsr7757VzTHG"
      },
      "execution_count": null,
      "outputs": []
    }
  ],
  "metadata": {
    "accelerator": "GPU",
    "colab": {
      "gpuType": "T4",
      "provenance": []
    },
    "kernelspec": {
      "display_name": "Python 3",
      "name": "python3"
    },
    "language_info": {
      "name": "python"
    }
  },
  "nbformat": 4,
  "nbformat_minor": 0
}